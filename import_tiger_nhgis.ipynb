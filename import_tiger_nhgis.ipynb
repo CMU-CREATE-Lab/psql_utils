{
 "cells": [
  {
   "cell_type": "markdown",
   "metadata": {},
   "source": []
  },
  {
   "cell_type": "code",
   "execution_count": null,
   "metadata": {},
   "outputs": [],
   "source": [
    "import os, sys\n",
    "\n",
    "# Allow utils files to import other utils files\n",
    "#sys.path.insert(0, os.path.abspath('utils'))\n",
    "from import_tiger_nhgis import GeographyTable\n",
    "from utils import epsql\n",
    "\n",
    "engine = epsql.Engine()"
   ]
  },
  {
   "cell_type": "code",
   "execution_count": null,
   "metadata": {},
   "outputs": [],
   "source": [
    "\n",
    "# Be sure to add info to https://docs.google.com/spreadsheets/d/1nyF_53OEzQvZvmbfp_WFNlKS2gWipGyDTK86WaleGmE/edit#gid=0\n",
    "\n",
    "for year in range(2009, 2023):\n",
    "    for geography in GeographyTable.geography_tables(year):\n",
    "        geography.load_geography_geometries(engine, drop_first=False)\n",
    "\n",
    "print(\"Done\")\n",
    "\n"
   ]
  },
  {
   "cell_type": "code",
   "execution_count": null,
   "metadata": {},
   "outputs": [],
   "source": [
    "#engine.execute(\"drop table tiger_wgs84.tl_2015_county;\")"
   ]
  },
  {
   "cell_type": "code",
   "execution_count": null,
   "metadata": {},
   "outputs": [],
   "source": [
    "engine.execute_returning_df(\"select * from tiger_wgs84.tl_2010_state00 limit 10\")"
   ]
  },
  {
   "cell_type": "code",
   "execution_count": null,
   "metadata": {},
   "outputs": [],
   "source": []
  }
 ],
 "metadata": {
  "kernelspec": {
   "display_name": ".venv",
   "language": "python",
   "name": "python3"
  },
  "language_info": {
   "codemirror_mode": {
    "name": "ipython",
    "version": 3
   },
   "file_extension": ".py",
   "mimetype": "text/x-python",
   "name": "python",
   "nbconvert_exporter": "python",
   "pygments_lexer": "ipython3",
   "version": "3.11.1"
  },
  "vscode": {
   "interpreter": {
    "hash": "3b33674befb3b99ec881601601e33692e30e991722aaadbe6cceaa5b6e851ee4"
   }
  }
 },
 "nbformat": 4,
 "nbformat_minor": 2
}
