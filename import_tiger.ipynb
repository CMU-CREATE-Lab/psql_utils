{
 "cells": [
  {
   "cell_type": "code",
   "execution_count": null,
   "metadata": {},
   "outputs": [],
   "source": [
    "import os, sys\n",
    "\n",
    "# Allow utils files to import other utils files\n",
    "#sys.path.insert(0, os.path.abspath('utils'))\n",
    "from utils import import_tiger\n",
    "from utils import epsql\n",
    "\n",
    "engine = epsql.Engine()"
   ]
  },
  {
   "cell_type": "code",
   "execution_count": null,
   "metadata": {},
   "outputs": [],
   "source": [
    "\n",
    "# Be sure to add info to https://docs.google.com/spreadsheets/d/1nyF_53OEzQvZvmbfp_WFNlKS2gWipGyDTK86WaleGmE/edit#gid=0\n",
    "\n",
    "for year in [\n",
    "#    2010,\n",
    "#    2018,\n",
    "#    2019,\n",
    "    2020\n",
    "    ]:\n",
    "    for level in import_tiger.tiger_levels(year):\n",
    "        import_tiger.load_tiger_geometries(\n",
    "            engine,\n",
    "            year,\n",
    "            level=level,\n",
    "            drop_first=False)\n",
    "\n",
    "print(\"Done\")\n",
    "\n"
   ]
  },
  {
   "cell_type": "code",
   "execution_count": null,
   "metadata": {},
   "outputs": [],
   "source": []
  },
  {
   "cell_type": "code",
   "execution_count": null,
   "metadata": {},
   "outputs": [],
   "source": [
    "engine.execute(\"drop table tiger_wgs84.tl_2020_tabblock10;\")"
   ]
  },
  {
   "cell_type": "code",
   "execution_count": null,
   "metadata": {},
   "outputs": [],
   "source": []
  }
 ],
 "metadata": {
  "kernelspec": {
   "display_name": "Python 3 (ipykernel)",
   "language": "python",
   "name": "python3"
  },
  "language_info": {
   "codemirror_mode": {
    "name": "ipython",
    "version": 3
   },
   "file_extension": ".py",
   "mimetype": "text/x-python",
   "name": "python",
   "nbconvert_exporter": "python",
   "pygments_lexer": "ipython3",
   "version": "3.8.5"
  }
 },
 "nbformat": 4,
 "nbformat_minor": 2
}
